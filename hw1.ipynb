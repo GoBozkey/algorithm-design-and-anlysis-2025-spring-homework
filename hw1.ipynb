{
 "cells": [
  {
   "cell_type": "markdown",
   "metadata": {},
   "source": [
    "## algorithm design and anlysis-2025 spring  homework 1 \n",
    "**Deadline**：2025.5.14\n",
    "\n",
    "**name**:\n",
    "\n",
    "\n",
    "note：\n",
    "---\n",
    "1. 带有\\*的题目，申请免上课的同学，必须完成，其他同学选作；\n",
    "2. 请独立完成，如求助了他人或者大模型，请著明，并且不可省略算法分析部分；\n",
    "4. 如若作答有雷同，全部取消成绩；\n",
    "3. 需要书面作答的题目，可以通过引用图片的形式添加，但是注意上传项目时包含所引用的图片的源文件；\n",
    "4. $log_n$ 默认表示$log_2{n}$;"
   ]
  },
  {
   "cell_type": "markdown",
   "metadata": {},
   "source": [
    "## 问题 1\n",
    "\n",
    "对于下面的每一对表达式(A, B), A是否能表示为B的 $\\Theta, \\Omega ,O$形式. 请注意, 这些关系中的零个、一个或多个可能成立。列出所有正确的。经常发生一些学生会,把指示写错, 所以请把关系写完整, 例如: $A = O(B),  A =\\Theta(B)$, 或$A = \\Omega(B)$。\n",
    "\n",
    "1. $A=n^2-100n, B=n^2$\n",
    "2. $A=logn, B=log_{1.2}n$\n",
    "3. $A=3^{2n}, B=2^{4n}$\n",
    "4. $A=2^{logn}, B=n$\n",
    "5. $A=\\log{\\log}{n},B=10^{10^{100}}$"
   ]
  },
  {
   "cell_type": "markdown",
   "metadata": {},
   "source": [
    "can refer a handwritten picture, pleas upload the picture in /fig/xxx.png\n",
    "answer:\n"
   ]
  },
  {
   "cell_type": "markdown",
   "metadata": {},
   "source": [
    "## 答1：\n",
    "\n",
    "1. $A = O(B),  A =\\Theta(B)$, $A = \\Omega(B)$\n",
    "2. $A = O(B),  A =\\Theta(B)$, $A = \\Omega(B)$\n",
    "3. $A = O(B)$\n",
    "4. $A = O(B),  A =\\Theta(B)$, $A = \\Omega(B)$\n",
    "5. $A = O(B)$"
   ]
  },
  {
   "cell_type": "markdown",
   "metadata": {},
   "source": [
    "## 问题 2：\n",
    "\n",
    "假设有函数 $f$ 和 $g$ 使得 $f(n)$ = $O(g(n))$ 对于下面的每一个陈述, 请判断对错, 如果正确请给出证明, 否则请给出一个反例。\n",
    "\n",
    "1. $\\log{f(n)}$ = $O(\\log(1+g(n)))$\n",
    "2. $3^{f(n)}=O(3^{g(n)})$\n",
    "3. $(f(n))^2=O((g(n))^2)$ "
   ]
  },
  {
   "cell_type": "markdown",
   "metadata": {},
   "source": [
    "you can refer a handwritten picture, pleas upload the picture in /fig/xxx.png\n",
    "answer:"
   ]
  },
  {
   "cell_type": "markdown",
   "metadata": {},
   "source": [
    "## 答2：\n",
    "\n",
    "1. 错，当$f(n)=n^2, g(n)=n^3$时，$logf(n)=2logn, log(1+g(n))\\approx log(g(n))=3logn$,显然原式不成立\n",
    "2. 错，当$f(n)=2n, g(n)=n$时，$3^{f(n)}=9^n,3^{g(n)}=3^n$,显然原式不成立\n",
    "3. 对\n",
    "    - 因为：$f(n)$ = $O(g(n))$\n",
    "    - 所以：$\\exists c和n_0,使得当n>n_0时，f(n)\\le cg(n)$\n",
    "    - 两边同时平方：$f^{2(n)}\\le c^2g^2(n)$\n",
    "    - 所以：$\\exists c^2$，使得$f^{2(n)}=c^2g^2(n)$"
   ]
  },
  {
   "cell_type": "markdown",
   "metadata": {},
   "source": [
    "## 问题 3\n",
    "\n",
    "根据下列递归公式, 计算下列 $T(n)$ 对应的的渐近上界。要求所求的边界尽可能的紧（tight）, 请写明步骤。\n",
    "\n",
    "1. $T(1)=1; T(n)=T(n/4)+1$ for $n>1$\n",
    "2. $T(1)=1;T(n)=3T(n/3)+n^2$ for $n>1$\n",
    "3. $T(1)=1;T(n)=T(2n/3)+1$ for $n>1$\n",
    "4. $T(1)=1;T(n)=5T(n/4)+n$ for $n>1$\n",
    "5. $T(n)=1 \\ for\\ n \\le 2 ; T(n)=T(\\sqrt{n})+1 \\ for \\ n>2$"
   ]
  },
  {
   "cell_type": "markdown",
   "metadata": {},
   "source": [
    "can refer a handwritten picture, pleas upload the picture in /fig/xxx.png\n",
    "answer:"
   ]
  },
  {
   "cell_type": "markdown",
   "metadata": {},
   "source": [
    "## 答3：\n",
    "\n",
    "1.  \n",
    "   - $a=1,b=4,f(n)=1$\n",
    "   - $log_b{a}=log_4{1}=0$\n",
    "   - $n^0=1,即f(n)=n^{log_b{a}}$\n",
    "   - $T(n)=\\Theta (logn)$\n",
    "   \n",
    "2. \n",
    "  - $a=3,b=3,f(n)=n^2$\n",
    "  - $log_b{a}=log_3{3}=1$\n",
    "  - $n^1=n,即f(n)>n^{log_b{a}}$\n",
    "  - $T(n)=\\Theta (n^2)$\n",
    "  \n",
    "3. \n",
    "   - $a=1,b=\\frac{3}{2},f(n)=1$\n",
    "   - $log_b{a}=log_{\\frac{3}{2}}{1}=0$\n",
    "   - $n^0=1,即f(n)=n^{log_b{a}}$\n",
    "   - $T(n)=\\Theta (logn)$\n",
    "   \n",
    "4. \n",
    "   - $a=5,b=4,f(n)=n$\n",
    "   - $log_b{a}=log_{4}{5}\\approx 1.16096$\n",
    "   - $n^{1.16096},即f(n)<n^{log_b{a}}$\n",
    "   - $T(n)=\\Theta (n^{log_4{5}})$\n",
    "   \n",
    "5. \n",
    "  - $令n=2^m,m=logn$\n",
    "  - $则T(n)=T(2^m)=T(2^{\\frac{m}{2}})+1$\n",
    "  - $令S(m)=T(2^m)$\n",
    "  - $则T(2^m)=S(m)=S(m/2)+1$\n",
    "  - $a=1,b=2,f(m)=1$\n",
    "  - $log_b{a}=log_2{1}=0$\n",
    "  - $m^0=1，即f(m)=m^{log_b{a}}$\n",
    "  - $S(m)=logm+1$\n",
    "  - $则T(n)=loglogn+1$\n",
    "  - $即T(n)=\\Theta (loglogn)$"
   ]
  },
  {
   "cell_type": "markdown",
   "metadata": {},
   "source": [
    "## 问题 4：\n",
    "\n",
    "给定一个包含n个元素的数组 `profits` , 它的第 `i` 个元素 `profits[i]` 表示一支股票第 `i` 天的**收益**（正数表示涨, 负数表示跌）。你只能选择 **某一天** 买入这只股票, 并选择在 **未来的某一个不同的日子** 卖出该股票。\n",
    "\n",
    "1. 设计一个算法来计算你所能获取的最大利润和对应买入和卖出的日期。请分析算法方案, 计算其时间复杂度, 并且使用python编程实现该算法。\n",
    "\n",
    "2. \\* 设计一个时间复杂度为 $O(n)$的算法实现该算法\n",
    "\n",
    "e.g. :\n",
    "---\n",
    "profits=[3,2,1,-7,5,2,-1,3,-1], 第5天买入, 第8天卖出, 收益最大：9\n",
    "\n"
   ]
  },
  {
   "cell_type": "markdown",
   "metadata": {},
   "source": [
    "## 答4"
   ]
  },
  {
   "cell_type": "code",
   "execution_count": 3,
   "metadata": {},
   "outputs": [
    {
     "name": "stdout",
     "output_type": "stream",
     "text": [
      "最大利润： 9\n",
      "买入日期： 5\n",
      "卖出日期： 8\n"
     ]
    }
   ],
   "source": [
    "# add your code\n",
    "# 即最大子序列问题，动规思路：遍历数组，记录到当前为止的最小买入价格和最大利润，同时记录买入卖出日期\n",
    "# 时间复杂度：O(n)\n",
    "\n",
    "def max_profit(stocks):\n",
    "    if len(stocks) < 2:\n",
    "        return -1, -1, -1\n",
    "    \n",
    "    max_profit = stocks[0]\n",
    "    current_max = stocks[0]\n",
    "    current_day = 0\n",
    "    buy_day = 0\n",
    "    sell_day = 0\n",
    "    \n",
    "    for i in range(1, len(stocks)):\n",
    "        if stocks[i] > stocks[i - 1] + current_max:\n",
    "            current_max = stocks[i]\n",
    "            current_day = i\n",
    "        else:\n",
    "            current_max += stocks[i]\n",
    "            \n",
    "        if current_max > max_profit:\n",
    "            max_profit = current_max\n",
    "            buy_day = current_day\n",
    "            sell_day = i\n",
    "            \n",
    "    return max_profit, buy_day + 1, sell_day + 1\n",
    "\n",
    "\n",
    "profits = [3, 2, 1, -7, 5, 2, -1, 3, -1]\n",
    "profit, buy, sell = max_profit(profits)\n",
    "print(\"最大利润：\", profit)\n",
    "print(\"买入日期：\", buy)\n",
    "print(\"卖出日期：\", sell)"
   ]
  },
  {
   "cell_type": "markdown",
   "metadata": {},
   "source": [
    "## 问题 5：\n",
    "\n",
    "观察下方的分治算法（divide-and-conquer algorithm）的伪代码, 回答下面问题\n",
    "\n",
    "```latex\n",
    "DoSomething(A,p,r)\n",
    "-----\n",
    "n := r-p+1\n",
    "if n=2 and A[p]>A[r] then\n",
    "    swap A[p] and A[r]\n",
    "else if n >= 3 then\n",
    "    m = ceil(2n/3)\n",
    "    DoSomething(A,p,p+m-1)\n",
    "    DoSomething(A,r-m+1,r)\n",
    "    DoSomething(A,p,p+m-1)  \n",
    "    \n",
    "---\n",
    "first call: DoSomething(A,1,n)\n",
    "```\n",
    "\n",
    "note：$ceil(2n/3)=\\left\\lceil {2n/3} \\right\\rceil$；$:=$ 表示赋值, 等价于 $\\to$；A是一个包含n的整数元素的数组, \n",
    "\n",
    "1. 写出该算法时间复杂度的递归公式, 并求解其对应的渐进表示\n",
    "2. 描述一下该算法的功能, 并判断是否是最高效的解决方案\n",
    "3. 使用python编程实现上述算法或其对应的更高效版本的算法\n"
   ]
  },
  {
   "cell_type": "markdown",
   "metadata": {},
   "source": [
    "## 答5：\n",
    "1. \n",
    "   - $T(n)=3T(2n/3)+O(1)$\n",
    "   - $a = 3, b = 3/2, f(n)=O(1)$\n",
    "   - $log_b{a}\\approx 2.7095$\n",
    "   - $即f(n)<n^{log_b{a}}$\n",
    "   - $T(n)=\\Theta (n^{log_{3/2}{3}})$\n",
    "   \n",
    "2. 功能：将数组递归划分为子数组进行局部排序，最终整体有序。但时间复杂度高于快排等算法，因此不是最高效的解决方案。"
   ]
  },
  {
   "cell_type": "code",
   "execution_count": 1,
   "metadata": {},
   "outputs": [
    {
     "data": {
      "text/plain": [
       "[1, 2, 3, 4]"
      ]
     },
     "execution_count": 1,
     "metadata": {},
     "output_type": "execute_result"
    }
   ],
   "source": [
    "# add your code here\n",
    "# your algorithm time complexity is : \n",
    "\n",
    "def DoSomething(A, p, r):\n",
    "    n = r - p + 1\n",
    "    if n == 2:\n",
    "        if A[p] > A[r]:\n",
    "            A[p], A[r] = A[r], A[p]\n",
    "    elif n >= 3:\n",
    "        m = (2 * n + 2) // 3\n",
    "        DoSomething(A, p, p + m - 1)\n",
    "        DoSomething(A, r - m + 1, r)\n",
    "        DoSomething(A, p, p + m - 1)\n",
    "\n",
    "A = [4, 3, 2, 1]\n",
    "DoSomething(A, 0, len(A) - 1)\n",
    "A"
   ]
  },
  {
   "cell_type": "markdown",
   "metadata": {},
   "source": [
    "## 问题 6：\n",
    "\n",
    "给定一个大小为 `n` 的数组 `nums` , 返回其中的多数元素。多数元素是指在数组中出现次数 **大于** `⌊ n/2 ⌋` 的元素。\n",
    "\n",
    "你可以假设数组是非空的, 并且给定的数组总是存在多数元素。\n",
    "\n",
    "1. 设计一个算法找到给定数组的多数元素, 分析算法设计思路, 计算算法时间复杂度, 使用python编程实现\n",
    "2. \\* 设计时间复杂度为 O(n)、空间复杂度为 O(1) 的算法解决此问题, 分析算法设计思路, 使用python编程实现\n",
    "\n",
    "e.g.:\n",
    "---\n",
    "1. nums=[3,2,3], 返回3\n",
    "2. nums=[2,2,1,1,1,2,2], 返回2\n"
   ]
  },
  {
   "cell_type": "markdown",
   "metadata": {},
   "source": [
    "## 答6：\n",
    "idea："
   ]
  },
  {
   "cell_type": "code",
   "execution_count": 4,
   "metadata": {},
   "outputs": [
    {
     "data": {
      "text/plain": [
       "3"
      ]
     },
     "execution_count": 4,
     "metadata": {},
     "output_type": "execute_result"
    }
   ],
   "source": [
    "# add your code here\n",
    "# 将数组分成两部分，分别找出左右部分的候选元素，然后比较两个候选元素在数组中出现的次数，选出多数元素。\n",
    "# your algorithm time complexity is : O(n)\n",
    "\n",
    "def find_ele_1(nums):\n",
    "    counts = {}\n",
    "    n = len(nums)\n",
    "    for num in nums:\n",
    "        counts[num] = counts.get(num, 0) + 1\n",
    "        if counts[num] > n // 2:\n",
    "            return num\n",
    "        \n",
    "find_ele_1([3,2,3])"
   ]
  },
  {
   "cell_type": "markdown",
   "metadata": {},
   "source": [
    "idea for 2\\*："
   ]
  },
  {
   "cell_type": "code",
   "execution_count": 5,
   "metadata": {},
   "outputs": [
    {
     "data": {
      "text/plain": [
       "2"
      ]
     },
     "execution_count": 5,
     "metadata": {},
     "output_type": "execute_result"
    }
   ],
   "source": [
    "# algorithm time complexity：O(n), space complexity:O(1)\n",
    "# add your code here\n",
    "\n",
    "def find_ele_2(nums):\n",
    "    ans = None\n",
    "    count = 0\n",
    "    for num in nums:\n",
    "        if count == 0:\n",
    "            ans = num\n",
    "        if num == ans:\n",
    "            count += 1  \n",
    "        else:\n",
    "            count -= 1  \n",
    "    return ans\n",
    "\n",
    "find_ele_2([2,2,1,1,1,2,2])"
   ]
  },
  {
   "cell_type": "markdown",
   "metadata": {},
   "source": [
    "## 问题 7：\n",
    "\n",
    "给定一个包含不同整数元素的数组 $ A[1..n]$ ,并且满足条件：$A[1]>A[2]$ 并且 $A[n-1]<A[n]$; 规定：如果一个元素比它两边的邻居元素都小, 即：$A[x]<A[x-1], A[x]<A[x+1]$ , 称这个元素A[x]为“局部最小”。通过遍历一次数组, 我们可以很容易在 $O(n)$的时间复杂度下找到一个局部最小值, \n",
    "\n",
    "\n",
    "1. 分析该问题, 设计一个算法在$O(logn)$的时间复杂度下找到一个局部最小(返回数值), 要求：分析算法设计思路, 并且使用python编程实现\n",
    "2. \\* 设计算法找出所有局部最小值, 分析算法设计思路, 并使用python编程实现\n",
    "\n",
    "e.g.:\n",
    "---\n",
    "A=[9, 3, 7, 2, 1, 4, 5 ] 时,  局部最小元素为 3, 1\n"
   ]
  },
  {
   "cell_type": "markdown",
   "metadata": {},
   "source": [
    "## 答7：\n",
    "idea："
   ]
  },
  {
   "cell_type": "code",
   "execution_count": 6,
   "metadata": {},
   "outputs": [
    {
     "data": {
      "text/plain": [
       "1"
      ]
     },
     "execution_count": 6,
     "metadata": {},
     "output_type": "execute_result"
    }
   ],
   "source": [
    "# add your code here\n",
    "# 使用二分法，选择中间元素，若中间元素是局部最小值，直接返回，否则，比较左右元素，向更小的一侧继续二分。\n",
    "# your algorithm time complexity is :\n",
    "\n",
    "def find_min_1(arr):\n",
    "    low = 0\n",
    "    high = len(arr) - 1\n",
    "    n = len(arr)\n",
    "    if n == 1:\n",
    "        return arr[0]\n",
    "    \n",
    "    while low <= high:\n",
    "        mid = (low + high) // 2\n",
    "        if mid == 0:\n",
    "            if arr[0] > arr[1]:\n",
    "                low = mid + 1\n",
    "        elif mid == n - 1:\n",
    "            if arr[-1] > arr[-2]:\n",
    "                high = mid - 1\n",
    "        else:\n",
    "            now = arr[mid]\n",
    "            left = arr[mid - 1]\n",
    "            right = arr[mid + 1]\n",
    "            if now < left and now < right:\n",
    "                return now\n",
    "            if left < now:\n",
    "                high = mid - 1\n",
    "            else:\n",
    "                low = mid + 1\n",
    "    return arr[low]\n",
    "\n",
    "find_min_1([9, 3, 7, 2, 1, 4, 5])"
   ]
  },
  {
   "cell_type": "markdown",
   "metadata": {},
   "source": [
    "idea:"
   ]
  },
  {
   "cell_type": "code",
   "execution_count": 7,
   "metadata": {},
   "outputs": [
    {
     "data": {
      "text/plain": [
       "[3, 1]"
      ]
     },
     "execution_count": 7,
     "metadata": {},
     "output_type": "execute_result"
    }
   ],
   "source": [
    "# add your code here\n",
    "# 遍历数组，检查每个元素是否比左右邻居都小\n",
    "# your algorithm time complexity is :\n",
    "\n",
    "def find_min_2(A):\n",
    "    ans = []\n",
    "    for i in range(1, len(A) - 1):\n",
    "        if A[i] < A[i - 1] and A[i] < A[i + 1]:\n",
    "            ans.append(A[i])\n",
    "    return ans\n",
    "\n",
    "find_min_2([9, 3, 7, 2, 1, 4, 5])"
   ]
  },
  {
   "cell_type": "markdown",
   "metadata": {},
   "source": [
    "## 问题 8：\n",
    "\n",
    "给定包含n个不同数字的一组数, 寻找一种基于比较的算法在这组数中找到k个最小的数字, 并按顺序输出它们。\n",
    "\n",
    "1. 将n个数先进行排序, 然后按顺序输出最小的k个数。要求：选择合适的排序算法实现上述操作, 计算算法时间复杂度, 并使用python编程实现。\n",
    "2. 建立一个包含这n个数的堆（heap）, 并且调用 k 次Extract-min 按顺序输出最小的k个数。使用往空堆中不断插入元素的方法建立堆, 分析这种方法建堆的时间复杂度, 并使用python编程实现\n",
    "3. \\* 假设数组中包含的数据总数目超过了计算机的存储能力, 请设计一个算法, 找到这堆数据的前k小的数值, 计算时间复杂度, 并使用python实现该算法, 假设计算机一定能存储k个数据。\n",
    "\n",
    "e.g.：\n",
    "---\n",
    "数组arr=[5,4,3,2,6,1,88,33,22,107] 的前3个最小数据为：1, 2, 3\n"
   ]
  },
  {
   "cell_type": "markdown",
   "metadata": {},
   "source": [
    "## 答8：\n",
    "idea："
   ]
  },
  {
   "cell_type": "code",
   "execution_count": 8,
   "metadata": {},
   "outputs": [
    {
     "data": {
      "text/plain": [
       "[1, 2, 3]"
      ]
     },
     "execution_count": 8,
     "metadata": {},
     "output_type": "execute_result"
    }
   ],
   "source": [
    "# add your code here\n",
    "# 使用快速排序或归并排序对数组排序后直接取前k个元素\n",
    "# your algorithm time complexity is :O(nlogn)\n",
    "\n",
    "def find_k(arr, k):\n",
    "    sorted_arr = sorted(arr)\n",
    "    return sorted_arr[:k]\n",
    "\n",
    "find_k([5,4,3,2,6,1,88,33,22,107], 3)"
   ]
  },
  {
   "cell_type": "code",
   "execution_count": 9,
   "metadata": {},
   "outputs": [
    {
     "data": {
      "text/plain": [
       "[1, 2, 3]"
      ]
     },
     "execution_count": 9,
     "metadata": {},
     "output_type": "execute_result"
    }
   ],
   "source": [
    "# your algorithm time complexity is :O(nlogn)\n",
    "\n",
    "import heapq\n",
    "\n",
    "def find_heap(arr, k):\n",
    "    heapq.heapify(arr)  \n",
    "    result = [heapq.heappop(arr) for _ in range(k)]  \n",
    "    return result\n",
    "\n",
    "find_heap([5, 4, 3, 2, 6, 1, 88, 33, 22, 107], 3)"
   ]
  },
  {
   "cell_type": "markdown",
   "metadata": {},
   "source": [
    "## 问题 9：\n",
    "\n",
    "**选择问题**:给定一个包含n个未排序值的数组A和一个$k≤n$的整数, 返回A中最小的第k项。\n",
    "\n",
    "在课堂上, 学了一个简单的O(n)随机算法来解决选择问题。事实上还有一种更复杂的最坏情况下时间复杂度为$O(n)$ 的选择算法。假设使用一个黑盒过程来实现这个O(n)选择算法: 给定一个数组A、 $p < r$ 和 k,  $BB(A, p, r, k)$ 可以在$O(r−p+ 1)$时间内找到并报告$A[p..r]$中第k小的项的下标。假设你可以在线性时间内处理Partition过程。\n",
    "\n",
    "1. 请分析如何修改 Quicksork 算法可以使其最差情况下的运行时间为 $O(nlogn)$, 使用伪代码实现, 并分析为何修改后的版本最差情况的运行时间为$O(nlogn)$\n",
    "\n",
    "note: 伪代码中, 你可以直接调用用` BB(A,p,r,k)`这个函数用于表示在最坏情况下时间复杂度为$O(n)$的选择算法；\n",
    "\n",
    "\n",
    "\n",
    "2. 找到一个更好的算法报告数组A中的前k小的项, 使用伪代码表示你的算法, 并分析你算法的时间复杂度。\n",
    "\n",
    "举例：A=[13, 3, 7, 9, 11, 1, 15, 2, 8, 10, 12, 16, 14, 5], 当k=4时, 应该报告1, 2, 3, 4\n",
    "\n",
    "note： 最直观的方法就是先将数组A排序, 然后从左向右报告其前k项, 这样操作的时间复杂度为$O(nlogn)$. 调用用` BB(A,p,r,k)`设计一个算法使其报告无序数组A的前k项, 满足时间复杂度好于$\\Theta(nlogn)$, 并且当$k=\\sqrt{n}$时, 你设计的算法时间复杂度应该为$\\Theta(n)$.\n",
    "\n",
    "\n",
    "\n",
    "3. 给定一个大小为n的数组, 找到一个 时间复杂度为$O(n log k)$ 的算法, 该算法将A中的元素重新排序, 使它们被划分为k个部分, 每个部分的元素小于或等于下一部分的元素。假设n和k都是2的幂。使用伪代码表示你的算法, 并分析时间复杂度。\n",
    "\n",
    "e.g.:\n",
    "---\n",
    "数组：[1,  3,  5,  7,  9,  11,  13,  15,  2,  4,  6,  8,  10,  12,  16,  14], k=4, \n",
    "\n",
    "对应重新排序的数组为：[1,  3,  2,  4]  [7,  6,  5,  8]  [12,  11,  10,  9]  [13,  14,  16,  15]\n",
    "\n",
    "\n"
   ]
  },
  {
   "cell_type": "markdown",
   "metadata": {},
   "source": [
    "## 答9：\n",
    "idea："
   ]
  },
  {
   "cell_type": "code",
   "execution_count": 11,
   "metadata": {},
   "outputs": [],
   "source": [
    "# add your pseudo-code here\n",
    "# 每次分区选择的主元都是数组的最大或最小值，导致递归深度为 O(n)，时间复杂度 O(n^2)\n",
    "\n",
    "def QuickSort_2(A, p, r):\n",
    "    if p < r:\n",
    "        k = (r - p + 1) // 2  \n",
    "        q = BB(A, p, r, k)   \n",
    "        QuickSort_2(A, p, q - 1)\n",
    "        QuickSort_2(A, q + 1, r)"
   ]
  },
  {
   "cell_type": "code",
   "execution_count": 12,
   "metadata": {},
   "outputs": [],
   "source": [
    "# 利用BB函数找到第k小元素，再遍历数组收集前k小的元素，时间复杂度 O(n)\n",
    "\n",
    "def ReportFirstK(A, p, r, k):\n",
    "    if k == 0:\n",
    "        return []\n",
    "    if p == r:\n",
    "        return [A[p]]\n",
    "    q = BB(A, p, r, (r - p + 1) // 2)  \n",
    "    ReportLeft = ReportFirstK(A, p, q - 1, k - 1)\n",
    "    return ReportLeft + [A[q]]"
   ]
  },
  {
   "cell_type": "code",
   "execution_count": 14,
   "metadata": {},
   "outputs": [],
   "source": [
    "# 将数组划分为k个部分，每个部分的元素小于等于下一个部分的元素，时间复杂度 O(nlogk)\n",
    "\n",
    "def DivideArray(A, p, r, k):\n",
    "    if p < r:\n",
    "        m = (r - p + 1) // k\n",
    "        for i in range(k):\n",
    "            q = BB(A, p, r, p + i * m)\n",
    "            DivideArray(A, p, q - 1, k)\n",
    "            p = q + 1"
   ]
  },
  {
   "cell_type": "markdown",
   "metadata": {},
   "source": [
    "## 问题 10：\n",
    "\n",
    "给定一个包含m个**字符串**的数组A, 其中不同的字符串可能有不同的字符数, 但数组中所有字符串的字符总数为n。设计一个算法在 $O(n)$ 时间内对字符串进行排序, 分析算法设计方案, 计算其时间复杂度, 并基于python编程实现该算法。请注意, 假设字符串只包含\"a\",\"b\",...,\"z\", \n",
    "\n",
    "\n",
    "\n",
    "举例1：数组A=[\"a\", \"da\", \"bde\", \"ab\", \"bc\", \"abdc\", \"cdba\"], 排序后的数组应该为：['a', 'ab', 'abdc', 'bc', 'bde', 'cdba', 'da']\n",
    "\n",
    "\n",
    "\n",
    "举例2：数组A=['ab', 'a', 'b', 'abc', 'ba', 'c'], 排序后的数组应该为：\n",
    "\n",
    "['a', 'ab', 'abc', 'b', 'ba', 'c']\n",
    "\n",
    "\n",
    "\n",
    "举例3：数组A=['aef', 'yzr', 'wr', 'ab', 'bhjc', 'lkabdc', 'pwcdba'],  排序后的数组应该为：['ab', 'aef', 'bhjc', 'lkabdc', 'pwcdba', 'wr', 'yzr']\n",
    "\n",
    "\n",
    "\n",
    "note：\n",
    "\n",
    "-  两个字符之间的比较可以考虑比较他们对应的ASCII码值；\n",
    "- python中可以使用`ord(\"a\")`返回字符 “a”对应的ASCII值"
   ]
  },
  {
   "cell_type": "markdown",
   "metadata": {},
   "source": [
    "## 答10：\n",
    "idea:"
   ]
  },
  {
   "cell_type": "code",
   "execution_count": 15,
   "metadata": {},
   "outputs": [
    {
     "data": {
      "text/plain": [
       "['a', 'ab', 'abdc', 'bc', 'bde', 'cdba', 'da']"
      ]
     },
     "execution_count": 15,
     "metadata": {},
     "output_type": "execute_result"
    }
   ],
   "source": [
    "# add your code here\n",
    "# 使用字典树结构结合桶排序，字典树用于高效比较字符串的字典序，而桶排序用于将字符串按照字典序分组\n",
    "# your algorithm time complexity is ：O(n)\n",
    "\n",
    "def string(A):\n",
    "    tri = {}\n",
    "    for w in A:\n",
    "        node = tri\n",
    "        for ch in w:\n",
    "            if ch not in node:\n",
    "                node[ch] = {}\n",
    "            node = node[ch]\n",
    "        node['#'] = w\n",
    "    \n",
    "    ans = []\n",
    "    def dfs(node):\n",
    "        if '#' in node:\n",
    "            ans.append(node['#'])\n",
    "        for c in 'abcdefghijklmnopqrstuvwxyz':\n",
    "            if c in node:\n",
    "                dfs(node[c])\n",
    "    \n",
    "    dfs(tri)\n",
    "    return ans\n",
    "\n",
    "string([\"a\", \"da\", \"bde\", \"ab\", \"bc\", \"abdc\", \"cdba\"])"
   ]
  }
 ],
 "metadata": {
  "kernelspec": {
   "display_name": "Python 3 (ipykernel)",
   "language": "python",
   "name": "python3"
  },
  "language_info": {
   "codemirror_mode": {
    "name": "ipython",
    "version": 3
   },
   "file_extension": ".py",
   "mimetype": "text/x-python",
   "name": "python",
   "nbconvert_exporter": "python",
   "pygments_lexer": "ipython3",
   "version": "3.7.0"
  }
 },
 "nbformat": 4,
 "nbformat_minor": 2
}
