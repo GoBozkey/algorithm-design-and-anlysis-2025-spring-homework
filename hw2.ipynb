{
 "cells": [
  {
   "cell_type": "markdown",
   "metadata": {},
   "source": [
    "## algorithm design and anlysis-2025 spring  homework 2\n",
    "**Deadline**：2025.5.14\n",
    "\n",
    "**name**:\n",
    "\n",
    "\n",
    "note：\n",
    "---\n",
    "1. 带有\\*的题目，申请免上课的同学，必须完成，其他同学选作；\n",
    "2. 请独立完成，如求助了他人或者大模型，请著明，并且不可省略算法分析部分；\n",
    "4. 如若作答有雷同，全部取消成绩；\n",
    "3. 需要书面作答的题目，可以通过引用图片的形式添加，但是注意上传项目时包含所引用的图片的源文件；\n",
    "4. $log_n$ 默认表示$log_2{n}$;"
   ]
  },
  {
   "cell_type": "markdown",
   "metadata": {},
   "source": [
    "## 问题 1  \n",
    "\n",
    "> 给定一个已排序的链表的头 `head` ， *删除所有重复的元素，使每个元素只出现一次* 。返回 *已排序的链表* 。链表的类如下所示：\n",
    "\n",
    "```python\n",
    "class NodeList:\n",
    "    def __init__(self, val=None, right=None):\n",
    "        self.val   = val\n",
    "        self.right = right\n",
    "```\n",
    "\n",
    "输入是一个数组，你首先需要将数组转化为链表，然后删除链表中的重复元素，再遍历链表元素，以一个数组的形式返回。请设计一个算法解决上述任务，分析算法设计思路，计算时间复杂度, 并基于python编程实现。\n",
    "\n",
    "e.g.  输入：head=[1, 1, 2, 3, 3]   输出：[1, 2, 3]\n",
    "\n",
    "![image-20240502110020439](./fig/hw2q1.png)\n",
    "\n"
   ]
  },
  {
   "cell_type": "markdown",
   "metadata": {},
   "source": [
    "## 答1：\n",
    "idea："
   ]
  },
  {
   "cell_type": "code",
   "execution_count": 3,
   "metadata": {},
   "outputs": [
    {
     "data": {
      "text/plain": [
       "[1, 2, 3]"
      ]
     },
     "execution_count": 3,
     "metadata": {},
     "output_type": "execute_result"
    }
   ],
   "source": [
    "# add your idea here\n",
    "# 遍历输入数组，依次创建链表节点并连接起来，遍历链表，跳过重复节点，最后形成结果数组\n",
    "# your algorithm time complexity is:O(n)\n",
    "\n",
    "class NodeList:\n",
    "    def __init__(self, val=None, right=None):\n",
    "        self.val = val\n",
    "        self.right = right\n",
    "\n",
    "def get_list(arr):\n",
    "    if not arr:\n",
    "        return None\n",
    "    head = NodeList(arr[0])\n",
    "    now = head\n",
    "    for val in arr[1:]:\n",
    "        now.right = NodeList(val)\n",
    "        now = now.right\n",
    "    return head\n",
    "\n",
    "def del_copy(head):\n",
    "    now = head\n",
    "    while now and now.right:\n",
    "        if now.val == now.right.val:\n",
    "            now.right = now.right.right\n",
    "        else:\n",
    "            now = now.right\n",
    "    return head\n",
    "\n",
    "def get_arr(head):\n",
    "    arr = []\n",
    "    now = head\n",
    "    while now:\n",
    "        arr.append(now.val)\n",
    "        now = now.right\n",
    "    return arr\n",
    "\n",
    "def solve(input_arr):\n",
    "    head = get_list(input_arr)\n",
    "    pro_head = del_copy(head)\n",
    "    return get_arr(pro_head)\n",
    "\n",
    "solve([1, 1, 2, 3, 3])"
   ]
  },
  {
   "cell_type": "markdown",
   "metadata": {},
   "source": [
    "## 问题 2  \n",
    "\n",
    "> 下面是一个经典的算法问题：\n",
    ">\n",
    "> - 给定包含n个整数的一个整数数组 `nums` 和一个整数目标值 `target`，请你在该数组中找出 **和为目标值** *`target`* 的那 **两个** 整数，并返回它们的**数组下标**。假设每种输入只会对应一个答案。但是，数组中同一个元素在答案里不能重复出现。你可以按任意顺序返回答案。\n",
    ">\n",
    "> 由于要多次查找数组中元素的位置，为了提高查询效率可以使用哈希表来存储数组中的数据，在哈希表中查询一个元素的复杂度为O(1)。 已知python中的字典是使用哈希表实现的，即使用`dict[key]`查询对应的value时间复杂度为O(1), python提供了查询字典是否包含某个key的功能：`key in dict`，时间复杂度也是O(1)\n",
    "\n",
    "请根据上面信息，设计一个时间复杂度为O(n) 的算法，解决上述算法问题\n",
    "\n",
    "e.g.   \n",
    "\n",
    "输入：nums=[2,7,11,15], target=9， 输出：[0，1]\n",
    "\n",
    "输入：nums=[3,2,4], target=6, 输出：[1,2]\n",
    "\n",
    "输入：nums=[3,3], target=6,  输出：[0,1]\n"
   ]
  },
  {
   "cell_type": "markdown",
   "metadata": {},
   "source": [
    "## 答2："
   ]
  },
  {
   "cell_type": "code",
   "execution_count": 4,
   "metadata": {},
   "outputs": [
    {
     "data": {
      "text/plain": [
       "[0, 1]"
      ]
     },
     "execution_count": 4,
     "metadata": {},
     "output_type": "execute_result"
    }
   ],
   "source": [
    "# add your idea here\n",
    "# your algorithm time complexity is: O(n)\n",
    "\n",
    "def find_sum(nums, target):\n",
    "    hash_map = {}\n",
    "    for i, num in enumerate(nums):\n",
    "        cpl = target - num\n",
    "        if cpl in hash_map:\n",
    "            return [hash_map[cpl], i]\n",
    "        hash_map[num] = i\n",
    "    return []\n",
    "\n",
    "find_sum([2,7,11,15], 9)"
   ]
  },
  {
   "cell_type": "markdown",
   "metadata": {},
   "source": [
    "## 问题 3:   \n",
    "\n",
    "> 栈是一种常用的数据结构，编译器中通常使用栈来实现表达式求值。\n",
    ">\n",
    "> 以表达式 $3+5 \\times 8-6$​ 为例。编译器使用两个栈来完成运算，即一个栈保持操作数，另一个栈保存运算符。\n",
    ">\n",
    "> 1. 从左向右遍历表达式，遇到数字就压入操作数栈；\n",
    ">\n",
    "> 2. 遇到运算符，就与运算符栈的栈顶元素进行比较。如果比运算符栈顶元素的优先级高，就将当前运算符压入栈；如果比运算符栈顶元素的优先级低或者相同，从运算符栈中取栈顶运算符，从操作数栈的栈顶取 2 个操作数，然后进行计算，再把计算完的结果压入操作数栈，继续比较。\n",
    ">\n",
    "> 下图是 $3+5 \\times 8-6$  这个表达式的计算过程：\n",
    "\n",
    "![figure](./fig/hw2q3.png)\n",
    "\n",
    "根据上述原理，请设计一个算法完成表达式的运算，当输入为表达式字符串，返回对应的计算结果。分析算法设计思路，计算时间复杂度，并基于python编程实现\n",
    "\n",
    "**note：**\n",
    "\n",
    "1. 假设输入的表达式只会出现加（“+”），减 “-”， 乘“*”，除 “/” 四个运算符, 表达式中只会出现正整数\n",
    "2. python中` str.isdigit()`函数可以判断字符串str是否为数字，\n",
    "\n",
    "\n",
    "\n",
    "e.g. :\n",
    "---\n",
    "\n",
    "1. 输入：“$3+5 * 8 -6$”   输出：37\n",
    "\n",
    "2. 输入：“$34+13*9 + 44-12/3$”  输出：191"
   ]
  },
  {
   "cell_type": "markdown",
   "metadata": {},
   "source": [
    "## 答3：\n",
    "idea："
   ]
  },
  {
   "cell_type": "code",
   "execution_count": 5,
   "metadata": {},
   "outputs": [
    {
     "data": {
      "text/plain": [
       "37"
      ]
     },
     "execution_count": 5,
     "metadata": {},
     "output_type": "execute_result"
    }
   ],
   "source": [
    "# add your idea here\n",
    "# 使用两个栈，一个存储操作数，另一个存储运算符，遍历表达式处理栈内数据\n",
    "# your algorithm time complexity is: O(n)\n",
    "\n",
    "def cal(string):\n",
    "    priority = {'+': 1, '-': 1, '*': 2, '/': 2}\n",
    "    num_stack = [] \n",
    "    op_stack = [] \n",
    "    \n",
    "    i = 0\n",
    "    while i < len(string):\n",
    "        if string[i] == ' ':\n",
    "            i += 1\n",
    "            continue\n",
    "        \n",
    "        if string[i].isdigit():\n",
    "            num = 0\n",
    "            while i < len(string) and string[i].isdigit():\n",
    "                num = num * 10 + int(string[i])\n",
    "                i += 1\n",
    "            num_stack.append(num)\n",
    "        else:\n",
    "            now_op = string[i]\n",
    "            while op_stack and priority[now_op] <= priority[op_stack[-1]]:\n",
    "                op = op_stack.pop()\n",
    "                b = num_stack.pop()\n",
    "                a = num_stack.pop()\n",
    "                if op == '+':\n",
    "                    num_stack.append(a + b)\n",
    "                elif op == '-':\n",
    "                    num_stack.append(a - b)\n",
    "                elif op == '*':\n",
    "                    num_stack.append(a * b)\n",
    "                elif op == '/':\n",
    "                    num_stack.append(a // b)\n",
    "            op_stack.append(now_op)\n",
    "            i += 1\n",
    "    \n",
    "    while op_stack:\n",
    "        op = op_stack.pop()\n",
    "        b = num_stack.pop()\n",
    "        a = num_stack.pop()\n",
    "        if op == '+':\n",
    "            num_stack.append(a + b)\n",
    "        elif op == '-':\n",
    "            num_stack.append(a - b)\n",
    "        elif op == '*':\n",
    "            num_stack.append(a * b)\n",
    "        elif op == '/':\n",
    "            num_stack.append(a // b)\n",
    "    \n",
    "    return num_stack[-1]\n",
    "\n",
    "cal(\"3+5*8-6\")"
   ]
  },
  {
   "cell_type": "markdown",
   "metadata": {},
   "source": [
    "## 问题 4:  \n",
    "\n",
    "> 星球碰撞问题：现有n个星球，在同一条直线上运行，如数组A所示，元素的绝对值表示星球的质量，负数表示星球自右向左运动，正数表示星球自左向右运动，当两个星球相撞的时候，质量小的会消失，大的保持不变，**质量相同的两个星球碰撞后自右向左运动的星球消失，自左向右的星球保持不变**，假设所有星球的速度大小相同。\n",
    ">\n",
    "> $ A=[23,-8, 9, -3, -7, 9, -23, 22] $\n",
    "\n",
    "请设计一个算法模拟星球的运行情况，输出最终的星球存续情况（输出一个数组），分析算法设计思路，计算时间复杂度，并基于python编程实现。\n",
    "\n",
    "e.g.\n",
    "---\n",
    "1.  输入： A=[-3,-6,2,8, 5,-8,9,-2,1]， 输出：[-3, -6, 2, 8, 9, 1]\n",
    "\n",
    "2. 输入：A=[23,-8, 9, -3, -7, 9, -23, 22], 输出：[23, 22]\n",
    "\n"
   ]
  },
  {
   "cell_type": "markdown",
   "metadata": {},
   "source": [
    "## 答4："
   ]
  },
  {
   "cell_type": "code",
   "execution_count": 13,
   "metadata": {},
   "outputs": [
    {
     "data": {
      "text/plain": [
       "[23, 22]"
      ]
     },
     "execution_count": 13,
     "metadata": {},
     "output_type": "execute_result"
    }
   ],
   "source": [
    "# 使用栈模拟星球运动，如果栈顶星球质量大于当前星球质量，当前星球被销毁，如果等于，栈顶星球被弹出，当前星球也被销毁，否则栈顶星球被弹出\n",
    "# 时间复杂度O(n)\n",
    "\n",
    "def ball_run(balls):\n",
    "    stack = []\n",
    "    for num in balls:\n",
    "        if num > 0:\n",
    "            stack.append(num)\n",
    "        else:\n",
    "            while stack and stack[-1] > 0:\n",
    "                if stack[-1] < -num:\n",
    "                    stack.pop()\n",
    "                elif stack[-1] == -num:\n",
    "                    break\n",
    "                else:\n",
    "                    break\n",
    "            else:\n",
    "                stack.append(num)\n",
    "    return stack\n",
    "\n",
    "ball_run([23,-8, 9, -3, -7, 9, -23, 22])"
   ]
  },
  {
   "cell_type": "markdown",
   "metadata": {},
   "source": [
    "## 问题 5 \n",
    "\n",
    "> 给定一个无序数组nums=[9,-3,-10,0,9,7,33]，请建立一个二叉搜索树存储数组中的所有元素，之后删除二叉树中的元素“0”，再使用中序遍历输出二叉搜索树中的所有元素。\n",
    "\n",
    "使用python编程完成上述任务，并计算时间复杂度\n"
   ]
  },
  {
   "cell_type": "markdown",
   "metadata": {},
   "source": [
    "## 答5："
   ]
  },
  {
   "cell_type": "code",
   "execution_count": 15,
   "metadata": {},
   "outputs": [
    {
     "data": {
      "text/plain": [
       "[-10, -3, 7, 9, 9, 33]"
      ]
     },
     "execution_count": 15,
     "metadata": {},
     "output_type": "execute_result"
    }
   ],
   "source": [
    "# add your idea here\n",
    "# your algorithm time complexity is: O(n^2)\n",
    "\n",
    "class TreeNode:\n",
    "    def __init__(self, val=0, left=None, right=None):\n",
    "        self.val = val\n",
    "        self.left = left\n",
    "        self.right = right\n",
    "\n",
    "def insert(root, val):\n",
    "    if not root:\n",
    "        return TreeNode(val)\n",
    "    if val < root.val:\n",
    "        root.left = insert(root.left, val)\n",
    "    else:\n",
    "        root.right = insert(root.right, val)\n",
    "    return root\n",
    "\n",
    "def delete_node(root, key):\n",
    "    if not root:\n",
    "        return None\n",
    "    if key < root.val:\n",
    "        root.left = delete_node(root.left, key)\n",
    "    elif key > root.val:\n",
    "        root.right = delete_node(root.right, key)\n",
    "    else:\n",
    "        if not root.left:\n",
    "            return root.right\n",
    "        if not root.right:\n",
    "            return root.left\n",
    "        min_node = root.right\n",
    "        while min_node.left:\n",
    "            min_node = min_node.left\n",
    "        root.val = min_node.val\n",
    "        root.right = delete_node(root.right, min_node.val)\n",
    "    return root\n",
    "\n",
    "def inorder(root):\n",
    "    res = []\n",
    "    if root:\n",
    "        res = inorder(root.left)\n",
    "        res.append(root.val)\n",
    "        res += inorder(root.right)\n",
    "    return res\n",
    "\n",
    "nums = [9, -3, -10, 0, 9, 7, 33]\n",
    "root = None\n",
    "for num in nums:\n",
    "    root = insert(root, num)\n",
    "root = delete_node(root, 0)\n",
    "inorder(root)"
   ]
  },
  {
   "cell_type": "markdown",
   "metadata": {},
   "source": [
    "## 问题 6  \n",
    "\n",
    "> 给定一个包含大写字母和小写字母的字符串 s ，返回 字符串包含的 **最长的回文子串的长度** 。请注意 区分大小写 。比如 \"Aa\" 不能当做一个回文字符串。\n",
    ">\n",
    "\n",
    "请设计一个算法解决上述问题，只需要输出最长回文子串的长度，分析算法设计思路，计算时间复杂度，并基于python编程实现\n",
    "\n",
    "e.g. 输入： s=\"adccaccd\"，  输出：7。 最长回文子串为：\"dccaccd\", 长度为7\n"
   ]
  },
  {
   "cell_type": "markdown",
   "metadata": {},
   "source": [
    "## 答6：\n",
    "idea："
   ]
  },
  {
   "cell_type": "code",
   "execution_count": 16,
   "metadata": {},
   "outputs": [
    {
     "data": {
      "text/plain": [
       "7"
      ]
     },
     "execution_count": 16,
     "metadata": {},
     "output_type": "execute_result"
    }
   ],
   "source": [
    "# add your idea here\n",
    "# 遍历字符串，以当前字符向两边扩展以找到最长回文子串\n",
    "# your algorithm time complexity is: O(n^2)\n",
    "\n",
    "def find_str(s):\n",
    "    if not s:\n",
    "        return 0\n",
    "    \n",
    "    max_len = 0\n",
    "    n = len(s)\n",
    "    \n",
    "    def process(left, right):\n",
    "        while left >= 0 and right < n and s[left] == s[right]:\n",
    "            left -= 1\n",
    "            right += 1\n",
    "        return right - left - 1\n",
    "    \n",
    "    for i in range(n):\n",
    "        len1 = process(i, i)\n",
    "        len2 = process(i, i + 1)\n",
    "        current_max = max(len1, len2)\n",
    "        if current_max > max_len:\n",
    "            max_len = current_max\n",
    "    \n",
    "    return max_len\n",
    "\n",
    "find_str(\"adccaccd\")"
   ]
  },
  {
   "cell_type": "markdown",
   "metadata": {},
   "source": [
    "## 问题 7 \n",
    "\n",
    "> 沿一条长河流分散着n座房子。你可以把这条河想象成一条轴，房子是由它们在这条轴上的坐标按顺序排列的。你的公司想在河边的特定地点设置手机基站，这样每户人家都在距离基站4公里的范围内。输入可以看作为一个升序数组，数组元素的取值为大于等于0的正整数，你需要输出最小基站的数目，基站的位置。\n",
    "\n",
    "1. 给出一个时间复杂度为$O(n$) 的算法，使所使用的基站数量最小化，分析算法设计思路，使用python编程实现\n",
    "2. 证明1.中算法产生了最优解决方案。\n",
    "\n",
    "e.g. \n",
    "\n",
    "输入： [1, 5, 12, 33, 34,35]  输出：基站数目为3， 基站位置为[1，12，33]\n",
    "\n"
   ]
  },
  {
   "cell_type": "markdown",
   "metadata": {},
   "source": [
    "## 答8：\n",
    "idea："
   ]
  },
  {
   "cell_type": "code",
   "execution_count": 18,
   "metadata": {},
   "outputs": [
    {
     "data": {
      "text/plain": [
       "(3, [1, 12, 33])"
      ]
     },
     "execution_count": 18,
     "metadata": {},
     "output_type": "execute_result"
    }
   ],
   "source": [
    "# add your idea here\n",
    "# 每次选择当前未被覆盖的最左房屋，并找到最远可覆盖的房屋，在该位置设置基站\n",
    "# your algorithm time complexity is: O(n)\n",
    "\n",
    "def find_pos(arr):\n",
    "    if not arr:\n",
    "        return 0, []\n",
    "    \n",
    "    stations = []\n",
    "    i = 0\n",
    "    n = len(arr)\n",
    "    \n",
    "    while i < n:\n",
    "        now = arr[i]\n",
    "        j = i\n",
    "        while j < n and arr[j] <= now + 4:\n",
    "            j += 1\n",
    "        j -= 1  \n",
    "        stations.append(now) \n",
    "        i = j + 1 \n",
    "    return len(stations), stations\n",
    "\n",
    "find_pos([1, 5, 12, 33, 34,35])"
   ]
  },
  {
   "cell_type": "markdown",
   "metadata": {},
   "source": [
    "## 问题 8  \n",
    "\n",
    "> 给定由n个正整数组成的一个集合$S = \\{a_1, a_2，···，a_n\\}$和一个正整数W，设计一个算法确定是否存在S的一个子集 $K \\subseteq S$, 使K中所有数之和为 $W$, 如果存在返回“True”，否则返回“False”\n",
    "\n",
    "请设计一个时间复杂度为$O(nW)$动态规划算法，解决上述问题，分析算法的设计思路，并且基于python编程实现（不需要输出子集）。\n",
    "\n",
    "e.g. \n",
    "\n",
    "输入：S = {1,4,7,3,5}， W = 11，输出：True。   因为K可以是{4,7}。\n",
    "\n"
   ]
  },
  {
   "cell_type": "markdown",
   "metadata": {},
   "source": [
    "idea："
   ]
  },
  {
   "cell_type": "code",
   "execution_count": 19,
   "metadata": {},
   "outputs": [
    {
     "data": {
      "text/plain": [
       "True"
      ]
     },
     "execution_count": 19,
     "metadata": {},
     "output_type": "execute_result"
    }
   ],
   "source": [
    "# add your idea here\n",
    "# 一维数组dp表示前表示是否存在子集和为j，遍历每个元素，逆序更新dp数组以避免重复使用元素\n",
    "# your algorithm time complexity is: O(nW)\n",
    "\n",
    "def find_w(S, W):\n",
    "    dp = [False] * (W + 1)\n",
    "    dp[0] = True \n",
    "    for num in S:\n",
    "        for j in range(W, num - 1, -1):\n",
    "            if dp[j - num]:\n",
    "                dp[j] = True\n",
    "        if dp[W]:\n",
    "            return True\n",
    "    return dp[W]\n",
    "\n",
    "find_w({1,4,7,3,5}, 11)"
   ]
  },
  {
   "cell_type": "markdown",
   "metadata": {},
   "source": [
    "\n",
    "\n",
    "## 问题 9 \n",
    "\n",
    "> 给定一个n个物品的集合。物体的重量为$w_1, w_2，…、w_n$，物品的价值分别是$v_1、v_2、…v_n$。给你**两个**重量为 $c$ 的背包。如果你带了一个东西，它可以放在一个背包里，也可以放在另一个背包里，但不能同时放在两个背包里。所有权重和价值都是正整数。\n",
    "\n",
    "1. 设计一个时间复杂度为 $O(nc^2)$ 的动态规划算法，确定可以放入两个背包的物体的最大价值。分析算法设计思路，并基于python编程实现\n",
    "2. \\* 修改1中的算法，输出每个背包的内容（物品对应下标）。\n",
    "\n",
    "e.g.: \n",
    "\n",
    "输入 V=[1,3,2,5,8,7], W=[1,3,2,5,8,7], c=7, 输出：最大价值=14，背包装的物品为：[6] [4，3] （同一个背包中物品装入顺序对结果无影响）  \n"
   ]
  },
  {
   "cell_type": "markdown",
   "metadata": {},
   "source": [
    "idea："
   ]
  },
  {
   "cell_type": "code",
   "execution_count": 20,
   "metadata": {},
   "outputs": [
    {
     "data": {
      "text/plain": [
       "7"
      ]
     },
     "execution_count": 20,
     "metadata": {},
     "output_type": "execute_result"
    }
   ],
   "source": [
    "# add your idea here\n",
    "# 使用两个二维数组来表示两个背包的状态，对于每个物品，可以放入背包1、背包2，或者不放入任何背包。根据这些选择更新状态\n",
    "# your algorithm time complexity is: O(nc^2)\n",
    "\n",
    "def find_value(V, W, c):\n",
    "    n = len(V)\n",
    "    dp1 = [[0] * (c + 1) for _ in range(c + 1)]\n",
    "    \n",
    "    for i in range(n):\n",
    "        weight = W[i]\n",
    "        value = V[i]\n",
    "        temp = [row[:] for row in dp1]\n",
    "        for j in range(c, weight - 1, -1):\n",
    "            for k in range(c):\n",
    "                temp[j][k] = max(dp1[j][k], dp1[j - weight][k] + value)\n",
    "        dp1 = temp\n",
    "    \n",
    "    max_value = max(max(row) for row in dp1)\n",
    "    return max_value\n",
    "\n",
    "V = [1, 3, 2, 5, 8, 7]\n",
    "W = [1, 3, 2, 5, 8, 7]\n",
    "c = 7\n",
    "find_value(V, W, c)"
   ]
  },
  {
   "cell_type": "markdown",
   "metadata": {},
   "source": [
    "## 问题 10 \n",
    "\n",
    "> 给定两个字符串 $x[1..n]$ 和 $y[1..m]$，我们想通过以下操作将 $x$ 变换为 $y$ :\n",
    ">\n",
    "> **插入**：在 $x$ 中插入一个字符(在任何位置)；**删除**：从 $x$ 中删除一个字符(在任何位置)； **替换**：用另一个字符替换 $x$ 中的一个字符。\n",
    ">\n",
    "> 例如: $x = abcd$, $y = bcfe$，\n",
    ">\n",
    "> - 将 $x$ 转换为 $y$ 的一种可能方法是：1. 删除 $x$ 开头的 $a$, $x$变成 $bcd$； 2. 将 $x$ 中的字符 $d$ 替换为字符 $f$。$x$ 变成 $bcf$； 3. 在 $x$ 的末尾插入字符 $e$。$x$ 变成 $bcfe$。\n",
    ">\n",
    "> - 另一种可能的方法：1. 删除 $x$ 开头的 $a$,  $x$ 变成 $bcd$； 2. 在 $x$ 中字符 $d$ 之前插入字符 $f$。$x$ 变成 $bcfd$。3. 将 $x$ 中的字符 $d$ 替换为字符 $e$。$x$ 变成 $bcfe$。\n",
    "\n",
    "设计一个时间复杂度为 $O(mn)$ 的算法，返回将 $x$ 转换为 $y$ 所需的最少操作次数。分析算法设计思路，并基于python编程实现。\n"
   ]
  },
  {
   "cell_type": "markdown",
   "metadata": {},
   "source": [
    "idea："
   ]
  },
  {
   "cell_type": "code",
   "execution_count": null,
   "metadata": {},
   "outputs": [],
   "source": [
    "# add your idea here\n",
    "# 二维数组dp[i][j]表示将x的前i个字符转换为y的前j个字符所需的最少操作次数，通过比较字符是否相等，选择替换、插入或删除操作中的最小值\n",
    "# your algorithm time complexity is: O(mn)\n",
    "\n",
    "def op_count(x, y):\n",
    "    n, m = len(x), len(y)\n",
    "    dp = [[0] * (m + 1) for _ in range(n + 1)]\n",
    "    \n",
    "    for i in range(n + 1):\n",
    "        dp[i][0] = i\n",
    "    for j in range(m + 1):\n",
    "        dp[0][j] = j\n",
    "    \n",
    "    for i in range(1, n + 1):\n",
    "        for j in range(1, m + 1):\n",
    "            if x[i - 1] == y[j - 1]:\n",
    "                dp[i][j] = dp[i - 1][j - 1]\n",
    "            else:\n",
    "                replace = dp[i - 1][j - 1] + 1\n",
    "                delete = dp[i - 1][j] + 1\n",
    "                insert = dp[i][j - 1] + 1\n",
    "                dp[i][j] = min(replace, delete, insert)\n",
    "    return dp[n][m]\n",
    "\n"
   ]
  }
 ],
 "metadata": {
  "kernelspec": {
   "display_name": "Python 3 (ipykernel)",
   "language": "python",
   "name": "python3"
  },
  "language_info": {
   "codemirror_mode": {
    "name": "ipython",
    "version": 3
   },
   "file_extension": ".py",
   "mimetype": "text/x-python",
   "name": "python",
   "nbconvert_exporter": "python",
   "pygments_lexer": "ipython3",
   "version": "3.7.0"
  }
 },
 "nbformat": 4,
 "nbformat_minor": 2
}
